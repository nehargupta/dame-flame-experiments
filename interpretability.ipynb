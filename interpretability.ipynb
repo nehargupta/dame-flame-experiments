{
 "cells": [
  {
   "cell_type": "code",
   "execution_count": 11,
   "metadata": {},
   "outputs": [
    {
     "name": "stdout",
     "output_type": "stream",
     "text": [
      "Iteration number:  1\n",
      "\tNumber of matched groups formed in total:  765\n",
      "\tUnmatched treated units:  255 out of a total of  2000 treated units\n",
      "\tUnmatched control units:  280 out of a total of  2000 control units\n",
      "\tPredictive error of covariates chosen this iteration:  0\n",
      "\tNumber of matches made in this iteration:  3465\n",
      "\tNumber of matches made so far:  3465\n",
      "\tIn this iteration, the covariates dropped are:  set()\n",
      "Iteration number:  2\n",
      "\tNumber of matched groups formed in total:  959\n",
      "\tUnmatched treated units:  21 out of a total of  2000 treated units\n",
      "\tUnmatched control units:  31 out of a total of  2000 control units\n",
      "\tPredictive error of covariates chosen this iteration:  0.4008861590088526\n",
      "\tNumber of matches made in this iteration:  483\n",
      "\tNumber of matches made so far:  3948\n",
      "\tIn this iteration, the covariates dropped are:  7\n",
      "Iteration number:  3\n",
      "\tNumber of matched groups formed in total:  972\n",
      "\tUnmatched treated units:  0 out of a total of  2000 treated units\n",
      "\tUnmatched control units:  0 out of a total of  2000 control units\n",
      "\tPredictive error of covariates chosen this iteration:  1.0176553068221894\n",
      "\tNumber of matches made in this iteration:  535\n",
      "\tNumber of matches made so far:  4000\n",
      "\tIn this iteration, the covariates dropped are:  8\n",
      "All units have been matched.\n"
     ]
    }
   ],
   "source": [
    "import dame_flame\n",
    "import matplotlib.pyplot as plt\n",
    "\n",
    "\n",
    "df,_ = dame_flame.utils.data.gen_data_given_importance(num_control=2000, num_treated=2000, num_cov=10,\n",
    "                                                       bernoulli_param=0.5, bi_mean=2, bi_stdev=1,\n",
    "                                                      covar_importance=[5,4,3,2,1, 0.5, 0.01, 0.01, \n",
    "                                                                       0.01, 0.01])\n",
    "\n",
    "model = dame_flame.matching.FLAME(verbose=3, want_pe=True)\n",
    "model.fit(holdout_data=df)\n",
    "res = model.predict(df)\n"
   ]
  },
  {
   "cell_type": "code",
   "execution_count": 12,
   "metadata": {},
   "outputs": [
    {
     "data": {
      "text/plain": [
       "[0.4008861590088526, 1.0176553068221894]"
      ]
     },
     "execution_count": 12,
     "metadata": {},
     "output_type": "execute_result"
    }
   ],
   "source": [
    "model.pe_each_iter"
   ]
  },
  {
   "cell_type": "code",
   "execution_count": 23,
   "metadata": {},
   "outputs": [
    {
     "name": "stdout",
     "output_type": "stream",
     "text": [
      "Iteration number:  1\n",
      "\tNumber of matched groups formed in total:  59\n",
      "\tUnmatched treated units:  186 out of a total of  250 treated units\n",
      "\tUnmatched control units:  180 out of a total of  250 control units\n",
      "\tPredictive error of covariates chosen this iteration:  0\n",
      "\tNumber of matches made in this iteration:  134\n",
      "\tNumber of matches made so far:  134\n",
      "\tIn this iteration, the covariates dropped are:  set()\n",
      "Iteration number:  2\n",
      "\tNumber of matched groups formed in total:  100\n",
      "\tUnmatched treated units:  145 out of a total of  250 treated units\n",
      "\tUnmatched control units:  146 out of a total of  250 control units\n",
      "\tPredictive error of covariates chosen this iteration:  0.17236047385008652\n",
      "\tNumber of matches made in this iteration:  75\n",
      "\tNumber of matches made so far:  209\n",
      "\tIn this iteration, the covariates dropped are:  7\n",
      "Iteration number:  3\n",
      "\tNumber of matched groups formed in total:  161\n",
      "\tUnmatched treated units:  97 out of a total of  250 treated units\n",
      "\tUnmatched control units:  85 out of a total of  250 control units\n",
      "\tPredictive error of covariates chosen this iteration:  0.7509495711261184\n",
      "\tNumber of matches made in this iteration:  184\n",
      "\tNumber of matches made so far:  318\n",
      "\tIn this iteration, the covariates dropped are:  8\n",
      "Iteration number:  4\n",
      "\tNumber of matched groups formed in total:  229\n",
      "\tUnmatched treated units:  33 out of a total of  250 treated units\n",
      "\tUnmatched control units:  23 out of a total of  250 control units\n",
      "\tPredictive error of covariates chosen this iteration:  1.7075874692656605\n",
      "\tNumber of matches made in this iteration:  310\n",
      "\tNumber of matches made so far:  444\n",
      "\tIn this iteration, the covariates dropped are:  9\n",
      "Iteration number:  5\n",
      "\tNumber of matched groups formed in total:  256\n",
      "\tUnmatched treated units:  2 out of a total of  250 treated units\n",
      "\tUnmatched control units:  0 out of a total of  250 control units\n",
      "\tPredictive error of covariates chosen this iteration:  3.1068788811757706\n",
      "\tNumber of matches made in this iteration:  364\n",
      "\tNumber of matches made so far:  498\n",
      "\tIn this iteration, the covariates dropped are:  5\n",
      "Iteration number:  6\n",
      "\tNumber of matched groups formed in total:  257\n",
      "\tUnmatched treated units:  0 out of a total of  250 treated units\n",
      "\tUnmatched control units:  0 out of a total of  250 control units\n",
      "\tPredictive error of covariates chosen this iteration:  4.793405665019387\n",
      "\tNumber of matches made in this iteration:  366\n",
      "\tNumber of matches made so far:  500\n",
      "\tIn this iteration, the covariates dropped are:  6\n",
      "All units have been matched.\n"
     ]
    },
    {
     "data": {
      "text/plain": [
       "[0.17236047385008652,\n",
       " 0.7509495711261184,\n",
       " 1.7075874692656605,\n",
       " 3.1068788811757706,\n",
       " 4.793405665019387]"
      ]
     },
     "execution_count": 23,
     "metadata": {},
     "output_type": "execute_result"
    }
   ],
   "source": [
    "df,_ = dame_flame.utils.data.gen_data_given_importance(num_control=250, num_treated=250, num_cov=10,\n",
    "                                                       bernoulli_param=0.5, bi_mean=2, bi_stdev=1,\n",
    "                                                      covar_importance=[10,8,6,4,2, 0.5, 0.01, 0.01, \n",
    "                                                                       0.01, 0.01])\n",
    "\n",
    "\n",
    "model = dame_flame.matching.FLAME(verbose=3, want_pe=True)\n",
    "model.fit(holdout_data=df)\n",
    "res = model.predict(df)\n",
    "model.pe_each_iter"
   ]
  },
  {
   "cell_type": "code",
   "execution_count": 48,
   "metadata": {},
   "outputs": [
    {
     "name": "stdout",
     "output_type": "stream",
     "text": [
      "Iteration number:  1\n",
      "\tNumber of matched groups formed in total:  52\n",
      "\tUnmatched treated units:  189 out of a total of  250 treated units\n",
      "\tUnmatched control units:  186 out of a total of  250 control units\n",
      "\tPredictive error of covariates chosen this iteration:  0\n",
      "\tNumber of matches made in this iteration:  125\n",
      "\tNumber of matches made so far:  125\n",
      "\tIn this iteration, the covariates dropped are:  set()\n",
      "Iteration number:  2\n",
      "\tNumber of matched groups formed in total:  98\n",
      "\tUnmatched treated units:  151 out of a total of  250 treated units\n",
      "\tUnmatched control units:  141 out of a total of  250 control units\n",
      "\tPredictive error of covariates chosen this iteration:  0.0051966427206768155\n",
      "\tNumber of matches made in this iteration:  83\n",
      "\tNumber of matches made so far:  208\n",
      "\tIn this iteration, the covariates dropped are:  8\n",
      "\tBalancing Factor of this iteration:  1.109831029185868\n",
      "Iteration number:  3\n",
      "\tNumber of matched groups formed in total:  166\n",
      "\tUnmatched treated units:  83 out of a total of  250 treated units\n",
      "\tUnmatched control units:  81 out of a total of  250 control units\n",
      "\tPredictive error of covariates chosen this iteration:  0.19869870461749825\n",
      "\tNumber of matches made in this iteration:  211\n",
      "\tNumber of matches made so far:  336\n",
      "\tIn this iteration, the covariates dropped are:  7\n",
      "\tBalancing Factor of this iteration:  2.3045418251843506\n",
      "Iteration number:  4\n",
      "\tNumber of matched groups formed in total:  234\n",
      "\tUnmatched treated units:  21 out of a total of  250 treated units\n",
      "\tUnmatched control units:  21 out of a total of  250 control units\n",
      "\tPredictive error of covariates chosen this iteration:  0.46886961107448316\n",
      "\tNumber of matches made in this iteration:  333\n",
      "\tNumber of matches made so far:  458\n",
      "\tIn this iteration, the covariates dropped are:  6\n",
      "\tBalancing Factor of this iteration:  5.5861966384054735\n",
      "Iteration number:  5\n",
      "\tNumber of matched groups formed in total:  252\n",
      "\tUnmatched treated units:  4 out of a total of  250 treated units\n",
      "\tUnmatched control units:  0 out of a total of  250 control units\n",
      "\tPredictive error of covariates chosen this iteration:  1.0514685708889338\n",
      "\tNumber of matches made in this iteration:  371\n",
      "\tNumber of matches made so far:  496\n",
      "\tIn this iteration, the covariates dropped are:  9\n",
      "\tBalancing Factor of this iteration:  23.61904761904762\n",
      "496 units matched. We finished with no more units to match\n"
     ]
    },
    {
     "data": {
      "text/plain": [
       "[1.109831029185868, 2.3045418251843506, 5.5861966384054735, 23.61904761904762]"
      ]
     },
     "execution_count": 48,
     "metadata": {},
     "output_type": "execute_result"
    }
   ],
   "source": [
    "df,_ = dame_flame.utils.data.gen_data_decay_importance(num_control=250, num_treated=250, num_cov=10,\n",
    "                                                       bernoulli_param=0.5, bi_mean=2, bi_stdev=1)\n",
    "\n",
    "model = dame_flame.matching.FLAME(verbose=3, want_pe=True, want_bf=True, stop_unmatched_c=True,\n",
    "                                 stop_unmatched_t=True)\n",
    "model.fit(holdout_data=df)\n",
    "res = model.predict(df)\n",
    "model.pe_each_iter\n",
    "model.bf_each_iter"
   ]
  },
  {
   "cell_type": "code",
   "execution_count": 51,
   "metadata": {},
   "outputs": [
    {
     "name": "stdout",
     "output_type": "stream",
     "text": [
      "Iteration number:  1\n",
      "\tNumber of matched groups formed in total:  52\n",
      "\tUnmatched treated units:  189 out of a total of  250 treated units\n",
      "\tUnmatched control units:  186 out of a total of  250 control units\n",
      "\tPredictive error of covariates chosen this iteration:  0\n",
      "\tNumber of matches made in this iteration:  125\n",
      "\tNumber of matches made so far:  125\n",
      "\tIn this iteration, the covariates dropped are:  set()\n",
      "Iteration number:  2\n",
      "\tNumber of matched groups formed in total:  98\n",
      "\tUnmatched treated units:  151 out of a total of  250 treated units\n",
      "\tUnmatched control units:  141 out of a total of  250 control units\n",
      "\tPredictive error of covariates chosen this iteration:  0.0051966427206768155\n",
      "\tNumber of matches made in this iteration:  83\n",
      "\tNumber of matches made so far:  208\n",
      "\tIn this iteration, the covariates dropped are:  frozenset({'8'})\n",
      "Balancing factor of this iteration:  1.109831029185868\n",
      "Iteration number:  3\n",
      "\tNumber of matched groups formed in total:  143\n",
      "\tUnmatched treated units:  114 out of a total of  250 treated units\n",
      "\tUnmatched control units:  105 out of a total of  250 control units\n",
      "\tPredictive error of covariates chosen this iteration:  0.1934558662961493\n",
      "\tNumber of matches made in this iteration:  73\n",
      "\tNumber of matches made so far:  281\n",
      "\tIn this iteration, the covariates dropped are:  frozenset({'7'})\n",
      "Balancing factor of this iteration:  1.4684138838006668\n",
      "Iteration number:  4\n",
      "\tNumber of matched groups formed in total:  174\n",
      "\tUnmatched treated units:  83 out of a total of  250 treated units\n",
      "\tUnmatched control units:  81 out of a total of  250 control units\n",
      "\tPredictive error of covariates chosen this iteration:  0.19869870461749825\n",
      "\tNumber of matches made in this iteration:  55\n",
      "\tNumber of matches made so far:  336\n",
      "\tIn this iteration, the covariates dropped are:  frozenset({'7', '8'})\n",
      "Balancing factor of this iteration:  3.074436090225564\n",
      "Iteration number:  5\n",
      "\tNumber of matched groups formed in total:  201\n",
      "\tUnmatched treated units:  63 out of a total of  250 treated units\n",
      "\tUnmatched control units:  63 out of a total of  250 control units\n",
      "\tPredictive error of covariates chosen this iteration:  0.2653317887579193\n",
      "\tNumber of matches made in this iteration:  38\n",
      "\tNumber of matches made so far:  374\n",
      "\tIn this iteration, the covariates dropped are:  frozenset({'6'})\n",
      "Balancing factor of this iteration:  2.4761267291387776\n",
      "Iteration number:  6\n",
      "\tNumber of matched groups formed in total:  230\n",
      "\tUnmatched treated units:  42 out of a total of  250 treated units\n",
      "\tUnmatched control units:  48 out of a total of  250 control units\n",
      "\tPredictive error of covariates chosen this iteration:  0.27917592551002285\n",
      "\tNumber of matches made in this iteration:  36\n",
      "\tNumber of matches made so far:  410\n",
      "\tIn this iteration, the covariates dropped are:  frozenset({'8', '6'})\n",
      "Balancing factor of this iteration:  5.285714285714286\n",
      "Iteration number:  7\n",
      "\tNumber of matched groups formed in total:  243\n",
      "\tUnmatched treated units:  35 out of a total of  250 treated units\n",
      "\tUnmatched control units:  38 out of a total of  250 control units\n",
      "\tPredictive error of covariates chosen this iteration:  0.45430162425834547\n",
      "\tNumber of matches made in this iteration:  17\n",
      "\tNumber of matches made so far:  427\n",
      "\tIn this iteration, the covariates dropped are:  frozenset({'7', '6'})\n",
      "Balancing factor of this iteration:  6.919642857142858\n",
      "Iteration number:  8\n",
      "\tNumber of matched groups formed in total:  268\n",
      "\tUnmatched treated units:  21 out of a total of  250 treated units\n",
      "\tUnmatched control units:  21 out of a total of  250 control units\n",
      "\tPredictive error of covariates chosen this iteration:  0.46886961107448316\n",
      "\tNumber of matches made in this iteration:  31\n",
      "\tNumber of matches made so far:  458\n",
      "\tIn this iteration, the covariates dropped are:  frozenset({'7', '8', '6'})\n",
      "Balancing factor of this iteration:  12.569172932330826\n",
      "Iteration number:  9\n",
      "\tNumber of matched groups formed in total:  280\n",
      "\tUnmatched treated units:  14 out of a total of  250 treated units\n",
      "\tUnmatched control units:  13 out of a total of  250 control units\n",
      "\tPredictive error of covariates chosen this iteration:  0.5569417731375065\n",
      "\tNumber of matches made in this iteration:  15\n",
      "\tNumber of matches made so far:  473\n",
      "\tIn this iteration, the covariates dropped are:  frozenset({'9'})\n",
      "Balancing factor of this iteration:  9.714285714285715\n",
      "Iteration number:  10\n",
      "\tNumber of matched groups formed in total:  284\n",
      "\tUnmatched treated units:  13 out of a total of  250 treated units\n",
      "\tUnmatched control units:  10 out of a total of  250 control units\n",
      "\tPredictive error of covariates chosen this iteration:  0.5610947050221954\n",
      "\tNumber of matches made in this iteration:  4\n",
      "\tNumber of matches made so far:  477\n",
      "\tIn this iteration, the covariates dropped are:  frozenset({'9', '8'})\n",
      "Balancing factor of this iteration:  22.456043956043956\n",
      "Iteration number:  11\n",
      "\tNumber of matched groups formed in total:  291\n",
      "\tUnmatched treated units:  10 out of a total of  250 treated units\n",
      "\tUnmatched control units:  5 out of a total of  250 control units\n",
      "\tPredictive error of covariates chosen this iteration:  0.7306423111237487\n",
      "\tNumber of matches made in this iteration:  8\n",
      "\tNumber of matches made so far:  485\n",
      "\tIn this iteration, the covariates dropped are:  frozenset({'7', '9'})\n",
      "Balancing factor of this iteration:  28.307692307692307\n",
      "Iteration number:  12\n",
      "\tNumber of matched groups formed in total:  293\n",
      "\tUnmatched treated units:  8 out of a total of  250 treated units\n",
      "\tUnmatched control units:  5 out of a total of  250 control units\n",
      "\tPredictive error of covariates chosen this iteration:  0.7352354400970086\n",
      "\tNumber of matches made in this iteration:  2\n",
      "\tNumber of matches made so far:  487\n",
      "\tIn this iteration, the covariates dropped are:  frozenset({'7', '9', '8'})\n",
      "Balancing factor of this iteration:  66.9\n",
      "Iteration number:  13\n",
      "\tNumber of matched groups formed in total:  296\n",
      "\tUnmatched treated units:  7 out of a total of  250 treated units\n",
      "\tUnmatched control units:  3 out of a total of  250 control units\n",
      "\tPredictive error of covariates chosen this iteration:  0.8683438045341296\n",
      "\tNumber of matches made in this iteration:  3\n",
      "\tNumber of matches made so far:  490\n",
      "\tIn this iteration, the covariates dropped are:  frozenset({'9', '6'})\n",
      "Balancing factor of this iteration:  47.45\n",
      "Iteration number:  14\n",
      "\tNumber of matched groups formed in total:  298\n",
      "\tUnmatched treated units:  6 out of a total of  250 treated units\n",
      "\tUnmatched control units:  2 out of a total of  250 control units\n",
      "\tPredictive error of covariates chosen this iteration:  0.8820487139923124\n",
      "\tNumber of matches made in this iteration:  2\n",
      "\tNumber of matches made so far:  492\n",
      "\tIn this iteration, the covariates dropped are:  frozenset({'9', '8', '6'})\n",
      "Balancing factor of this iteration:  100.0952380952381\n",
      "Iteration number:  15\n",
      "\tNumber of matched groups formed in total:  299\n",
      "\tUnmatched treated units:  5 out of a total of  250 treated units\n",
      "\tUnmatched control units:  2 out of a total of  250 control units\n",
      "\tPredictive error of covariates chosen this iteration:  1.0370808316346778\n",
      "\tNumber of matches made in this iteration:  1\n",
      "\tNumber of matches made so far:  493\n",
      "\tIn this iteration, the covariates dropped are:  frozenset({'7', '9', '6'})\n",
      "Balancing factor of this iteration:  136.66666666666666\n",
      "Iteration number:  16\n",
      "\tNumber of matched groups formed in total:  301\n",
      "\tUnmatched treated units:  4 out of a total of  250 treated units\n",
      "\tUnmatched control units:  0 out of a total of  250 control units\n",
      "\tPredictive error of covariates chosen this iteration:  1.0514685708889338\n",
      "\tNumber of matches made in this iteration:  3\n",
      "\tNumber of matches made so far:  496\n",
      "\tIn this iteration, the covariates dropped are:  frozenset({'7', '9', '8', '6'})\n",
      "Balancing factor of this iteration:  174.2\n",
      "496 units matched. We finished with no more units to match\n"
     ]
    },
    {
     "data": {
      "text/plain": [
       "[1.109831029185868,\n",
       " 1.4684138838006668,\n",
       " 3.074436090225564,\n",
       " 2.4761267291387776,\n",
       " 5.285714285714286,\n",
       " 6.919642857142858,\n",
       " 12.569172932330826,\n",
       " 9.714285714285715,\n",
       " 22.456043956043956,\n",
       " 28.307692307692307,\n",
       " 66.9,\n",
       " 47.45,\n",
       " 100.0952380952381,\n",
       " 136.66666666666666,\n",
       " 174.2]"
      ]
     },
     "execution_count": 51,
     "metadata": {},
     "output_type": "execute_result"
    }
   ],
   "source": [
    "model = dame_flame.matching.DAME(verbose=3, want_pe=True, want_bf=True, stop_unmatched_c=True,\n",
    "                                 stop_unmatched_t=True)\n",
    "model.fit(holdout_data=df)\n",
    "res = model.predict(df)\n",
    "model.pe_each_iter\n",
    "model.bf_each_iter"
   ]
  },
  {
   "cell_type": "code",
   "execution_count": 73,
   "metadata": {},
   "outputs": [
    {
     "name": "stdout",
     "output_type": "stream",
     "text": [
      "Iteration number:  1\n",
      "\tNumber of matched groups formed in total:  19\n",
      "\tUnmatched treated units:  12 out of a total of  50 treated units\n",
      "\tUnmatched control units:  14 out of a total of  50 control units\n",
      "\tPredictive error of covariates chosen this iteration:  0\n",
      "\tNumber of matches made in this iteration:  74\n",
      "\tNumber of matches made so far:  74\n",
      "\tIn this iteration, the covariates dropped are:  set()\n",
      "Iteration number:  2\n",
      "\tNumber of matched groups formed in total:  24\n",
      "\tUnmatched treated units:  8 out of a total of  50 treated units\n",
      "\tUnmatched control units:  8 out of a total of  50 control units\n",
      "\tPredictive error of covariates chosen this iteration:  1.1933792072695504\n",
      "\tNumber of matches made in this iteration:  10\n",
      "\tNumber of matches made so far:  84\n",
      "\tIn this iteration, the covariates dropped are:  3\n",
      "\tBalancing Factor of this iteration:  6.5\n",
      "Iteration number:  3\n",
      "\tNumber of matched groups formed in total:  25\n",
      "\tUnmatched treated units:  0 out of a total of  50 treated units\n",
      "\tUnmatched control units:  8 out of a total of  50 control units\n",
      "\tPredictive error of covariates chosen this iteration:  3.761149978795222\n",
      "\tNumber of matches made in this iteration:  18\n",
      "\tNumber of matches made so far:  92\n",
      "\tIn this iteration, the covariates dropped are:  4\n",
      "\tBalancing Factor of this iteration:  11.5\n",
      "Iteration number:  4\n",
      "\tNumber of matched groups formed in total:  26\n",
      "\tUnmatched treated units:  0 out of a total of  50 treated units\n",
      "\tUnmatched control units:  0 out of a total of  50 control units\n",
      "\tPredictive error of covariates chosen this iteration:  6.832530310266099\n",
      "\tNumber of matches made in this iteration:  26\n",
      "\tNumber of matches made so far:  100\n",
      "\tIn this iteration, the covariates dropped are:  2\n",
      "\tBalancing Factor of this iteration:  6.25\n",
      "All units have been matched.\n"
     ]
    }
   ],
   "source": [
    "df,_ = dame_flame.utils.data.gen_data_decay_importance(num_control=50, num_treated=50, num_cov=5,\n",
    "                                                       bernoulli_param=0.5, bi_mean=2, bi_stdev=1)\n",
    "\n",
    "model = dame_flame.matching.FLAME(verbose=3, want_pe=True, want_bf=True)\n",
    "model.fit(holdout_data=df)\n",
    "res = model.predict(df)"
   ]
  },
  {
   "cell_type": "code",
   "execution_count": 67,
   "metadata": {},
   "outputs": [
    {
     "data": {
      "text/plain": [
       "[12.916666666666666, 25.666666666666668, 10.0]"
      ]
     },
     "execution_count": 67,
     "metadata": {},
     "output_type": "execute_result"
    }
   ],
   "source": [
    "model.bf_each_iter"
   ]
  },
  {
   "cell_type": "code",
   "execution_count": 68,
   "metadata": {},
   "outputs": [
    {
     "data": {
      "text/plain": [
       "[0.7456530466918834, 1.3741335247711175, 2.6437112223776014]"
      ]
     },
     "execution_count": 68,
     "metadata": {},
     "output_type": "execute_result"
    }
   ],
   "source": [
    "model.pe_each_iter"
   ]
  },
  {
   "cell_type": "code",
   "execution_count": null,
   "metadata": {},
   "outputs": [],
   "source": []
  }
 ],
 "metadata": {
  "kernelspec": {
   "display_name": "Python 3",
   "language": "python",
   "name": "python3"
  },
  "language_info": {
   "codemirror_mode": {
    "name": "ipython",
    "version": 3
   },
   "file_extension": ".py",
   "mimetype": "text/x-python",
   "name": "python",
   "nbconvert_exporter": "python",
   "pygments_lexer": "ipython3",
   "version": "3.6.5"
  }
 },
 "nbformat": 4,
 "nbformat_minor": 2
}
